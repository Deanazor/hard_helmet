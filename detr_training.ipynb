{
  "nbformat": 4,
  "nbformat_minor": 0,
  "metadata": {
    "colab": {
      "name": "detr_helmet.ipynb",
      "provenance": [],
      "collapsed_sections": [
        "iq4XY90RSxd1"
      ],
      "include_colab_link": true
    },
    "kernelspec": {
      "name": "python3",
      "display_name": "Python 3"
    },
    "language_info": {
      "name": "python"
    },
    "widgets": {
      "application/vnd.jupyter.widget-state+json": {
        "31860286bc944f8cb372f6e987d8acda": {
          "model_module": "@jupyter-widgets/controls",
          "model_name": "HBoxModel",
          "model_module_version": "1.5.0",
          "state": {
            "_view_name": "HBoxView",
            "_dom_classes": [],
            "_model_name": "HBoxModel",
            "_view_module": "@jupyter-widgets/controls",
            "_model_module_version": "1.5.0",
            "_view_count": null,
            "_view_module_version": "1.5.0",
            "box_style": "",
            "layout": "IPY_MODEL_01449a114c6949f2833df4626d176280",
            "_model_module": "@jupyter-widgets/controls",
            "children": [
              "IPY_MODEL_56664880966c40629f55b77537a7102c",
              "IPY_MODEL_2983c8e7775749679331bde59870f4a9"
            ]
          }
        },
        "01449a114c6949f2833df4626d176280": {
          "model_module": "@jupyter-widgets/base",
          "model_name": "LayoutModel",
          "model_module_version": "1.2.0",
          "state": {
            "_view_name": "LayoutView",
            "grid_template_rows": null,
            "right": null,
            "justify_content": null,
            "_view_module": "@jupyter-widgets/base",
            "overflow": null,
            "_model_module_version": "1.2.0",
            "_view_count": null,
            "flex_flow": "row wrap",
            "width": "100%",
            "min_width": null,
            "border": null,
            "align_items": null,
            "bottom": null,
            "_model_module": "@jupyter-widgets/base",
            "top": null,
            "grid_column": null,
            "overflow_y": null,
            "overflow_x": null,
            "grid_auto_flow": null,
            "grid_area": null,
            "grid_template_columns": null,
            "flex": null,
            "_model_name": "LayoutModel",
            "justify_items": null,
            "grid_row": null,
            "max_height": null,
            "align_content": null,
            "visibility": null,
            "align_self": null,
            "height": null,
            "min_height": null,
            "padding": null,
            "grid_auto_rows": null,
            "grid_gap": null,
            "max_width": null,
            "order": null,
            "_view_module_version": "1.2.0",
            "grid_template_areas": null,
            "object_position": null,
            "object_fit": null,
            "grid_auto_columns": null,
            "margin": null,
            "display": "inline-flex",
            "left": null
          }
        },
        "56664880966c40629f55b77537a7102c": {
          "model_module": "@jupyter-widgets/controls",
          "model_name": "FloatProgressModel",
          "model_module_version": "1.5.0",
          "state": {
            "_view_name": "ProgressView",
            "style": "IPY_MODEL_ce49cbb4d2094911be427a2b132950ae",
            "_dom_classes": [],
            "description": "Validation sanity check: 100%",
            "_model_name": "FloatProgressModel",
            "bar_style": "info",
            "max": 1,
            "_view_module": "@jupyter-widgets/controls",
            "_model_module_version": "1.5.0",
            "value": 1,
            "_view_count": null,
            "_view_module_version": "1.5.0",
            "orientation": "horizontal",
            "min": 0,
            "description_tooltip": null,
            "_model_module": "@jupyter-widgets/controls",
            "layout": "IPY_MODEL_8247fab2d6b94e7c9428b0144f35a1eb"
          }
        },
        "2983c8e7775749679331bde59870f4a9": {
          "model_module": "@jupyter-widgets/controls",
          "model_name": "HTMLModel",
          "model_module_version": "1.5.0",
          "state": {
            "_view_name": "HTMLView",
            "style": "IPY_MODEL_bdeb70cf28974eb5a09093502e837553",
            "_dom_classes": [],
            "description": "",
            "_model_name": "HTMLModel",
            "placeholder": "​",
            "_view_module": "@jupyter-widgets/controls",
            "_model_module_version": "1.5.0",
            "value": " 2/2 [00:06&lt;00:00,  3.17s/it]",
            "_view_count": null,
            "_view_module_version": "1.5.0",
            "description_tooltip": null,
            "_model_module": "@jupyter-widgets/controls",
            "layout": "IPY_MODEL_3922444a2b8541bea2d27f187f9e7a27"
          }
        },
        "ce49cbb4d2094911be427a2b132950ae": {
          "model_module": "@jupyter-widgets/controls",
          "model_name": "ProgressStyleModel",
          "model_module_version": "1.5.0",
          "state": {
            "_view_name": "StyleView",
            "_model_name": "ProgressStyleModel",
            "description_width": "initial",
            "_view_module": "@jupyter-widgets/base",
            "_model_module_version": "1.5.0",
            "_view_count": null,
            "_view_module_version": "1.2.0",
            "bar_color": null,
            "_model_module": "@jupyter-widgets/controls"
          }
        },
        "8247fab2d6b94e7c9428b0144f35a1eb": {
          "model_module": "@jupyter-widgets/base",
          "model_name": "LayoutModel",
          "model_module_version": "1.2.0",
          "state": {
            "_view_name": "LayoutView",
            "grid_template_rows": null,
            "right": null,
            "justify_content": null,
            "_view_module": "@jupyter-widgets/base",
            "overflow": null,
            "_model_module_version": "1.2.0",
            "_view_count": null,
            "flex_flow": null,
            "width": null,
            "min_width": null,
            "border": null,
            "align_items": null,
            "bottom": null,
            "_model_module": "@jupyter-widgets/base",
            "top": null,
            "grid_column": null,
            "overflow_y": null,
            "overflow_x": null,
            "grid_auto_flow": null,
            "grid_area": null,
            "grid_template_columns": null,
            "flex": "2",
            "_model_name": "LayoutModel",
            "justify_items": null,
            "grid_row": null,
            "max_height": null,
            "align_content": null,
            "visibility": null,
            "align_self": null,
            "height": null,
            "min_height": null,
            "padding": null,
            "grid_auto_rows": null,
            "grid_gap": null,
            "max_width": null,
            "order": null,
            "_view_module_version": "1.2.0",
            "grid_template_areas": null,
            "object_position": null,
            "object_fit": null,
            "grid_auto_columns": null,
            "margin": null,
            "display": null,
            "left": null
          }
        },
        "bdeb70cf28974eb5a09093502e837553": {
          "model_module": "@jupyter-widgets/controls",
          "model_name": "DescriptionStyleModel",
          "model_module_version": "1.5.0",
          "state": {
            "_view_name": "StyleView",
            "_model_name": "DescriptionStyleModel",
            "description_width": "",
            "_view_module": "@jupyter-widgets/base",
            "_model_module_version": "1.5.0",
            "_view_count": null,
            "_view_module_version": "1.2.0",
            "_model_module": "@jupyter-widgets/controls"
          }
        },
        "3922444a2b8541bea2d27f187f9e7a27": {
          "model_module": "@jupyter-widgets/base",
          "model_name": "LayoutModel",
          "model_module_version": "1.2.0",
          "state": {
            "_view_name": "LayoutView",
            "grid_template_rows": null,
            "right": null,
            "justify_content": null,
            "_view_module": "@jupyter-widgets/base",
            "overflow": null,
            "_model_module_version": "1.2.0",
            "_view_count": null,
            "flex_flow": null,
            "width": null,
            "min_width": null,
            "border": null,
            "align_items": null,
            "bottom": null,
            "_model_module": "@jupyter-widgets/base",
            "top": null,
            "grid_column": null,
            "overflow_y": null,
            "overflow_x": null,
            "grid_auto_flow": null,
            "grid_area": null,
            "grid_template_columns": null,
            "flex": null,
            "_model_name": "LayoutModel",
            "justify_items": null,
            "grid_row": null,
            "max_height": null,
            "align_content": null,
            "visibility": null,
            "align_self": null,
            "height": null,
            "min_height": null,
            "padding": null,
            "grid_auto_rows": null,
            "grid_gap": null,
            "max_width": null,
            "order": null,
            "_view_module_version": "1.2.0",
            "grid_template_areas": null,
            "object_position": null,
            "object_fit": null,
            "grid_auto_columns": null,
            "margin": null,
            "display": null,
            "left": null
          }
        },
        "dbd5e867aa0f4cbba8e5d371baf6aca0": {
          "model_module": "@jupyter-widgets/controls",
          "model_name": "HBoxModel",
          "model_module_version": "1.5.0",
          "state": {
            "_view_name": "HBoxView",
            "_dom_classes": [],
            "_model_name": "HBoxModel",
            "_view_module": "@jupyter-widgets/controls",
            "_model_module_version": "1.5.0",
            "_view_count": null,
            "_view_module_version": "1.5.0",
            "box_style": "",
            "layout": "IPY_MODEL_abffefcb18324c9583e5ca5af166caf6",
            "_model_module": "@jupyter-widgets/controls",
            "children": [
              "IPY_MODEL_23142bf88b824ff69a579342fa4da6eb",
              "IPY_MODEL_12bedfa8951341e5a95db7460601bdbd"
            ]
          }
        },
        "abffefcb18324c9583e5ca5af166caf6": {
          "model_module": "@jupyter-widgets/base",
          "model_name": "LayoutModel",
          "model_module_version": "1.2.0",
          "state": {
            "_view_name": "LayoutView",
            "grid_template_rows": null,
            "right": null,
            "justify_content": null,
            "_view_module": "@jupyter-widgets/base",
            "overflow": null,
            "_model_module_version": "1.2.0",
            "_view_count": null,
            "flex_flow": "row wrap",
            "width": "100%",
            "min_width": null,
            "border": null,
            "align_items": null,
            "bottom": null,
            "_model_module": "@jupyter-widgets/base",
            "top": null,
            "grid_column": null,
            "overflow_y": null,
            "overflow_x": null,
            "grid_auto_flow": null,
            "grid_area": null,
            "grid_template_columns": null,
            "flex": null,
            "_model_name": "LayoutModel",
            "justify_items": null,
            "grid_row": null,
            "max_height": null,
            "align_content": null,
            "visibility": null,
            "align_self": null,
            "height": null,
            "min_height": null,
            "padding": null,
            "grid_auto_rows": null,
            "grid_gap": null,
            "max_width": null,
            "order": null,
            "_view_module_version": "1.2.0",
            "grid_template_areas": null,
            "object_position": null,
            "object_fit": null,
            "grid_auto_columns": null,
            "margin": null,
            "display": "inline-flex",
            "left": null
          }
        },
        "23142bf88b824ff69a579342fa4da6eb": {
          "model_module": "@jupyter-widgets/controls",
          "model_name": "FloatProgressModel",
          "model_module_version": "1.5.0",
          "state": {
            "_view_name": "ProgressView",
            "style": "IPY_MODEL_47230275e7b443cba798700ead62035c",
            "_dom_classes": [],
            "description": "Epoch 0:  24%",
            "_model_name": "FloatProgressModel",
            "bar_style": "info",
            "max": 880,
            "_view_module": "@jupyter-widgets/controls",
            "_model_module_version": "1.5.0",
            "value": 210,
            "_view_count": null,
            "_view_module_version": "1.5.0",
            "orientation": "horizontal",
            "min": 0,
            "description_tooltip": null,
            "_model_module": "@jupyter-widgets/controls",
            "layout": "IPY_MODEL_ce736b9a63a4441d96dc7fe665251742"
          }
        },
        "12bedfa8951341e5a95db7460601bdbd": {
          "model_module": "@jupyter-widgets/controls",
          "model_name": "HTMLModel",
          "model_module_version": "1.5.0",
          "state": {
            "_view_name": "HTMLView",
            "style": "IPY_MODEL_6777f0c6b5dd4052867be06b8ec187ee",
            "_dom_classes": [],
            "description": "",
            "_model_name": "HTMLModel",
            "placeholder": "​",
            "_view_module": "@jupyter-widgets/controls",
            "_model_module_version": "1.5.0",
            "value": " 210/880 [05:44&lt;18:19,  1.64s/it, loss=4.05, v_num=4, mean AP=0.0527, mean AP (50)=0.147, mean AP (75)=0.0344, train_loss_step=4.59]",
            "_view_count": null,
            "_view_module_version": "1.5.0",
            "description_tooltip": null,
            "_model_module": "@jupyter-widgets/controls",
            "layout": "IPY_MODEL_81357b1f580d4c869f5126aee3c54d7d"
          }
        },
        "47230275e7b443cba798700ead62035c": {
          "model_module": "@jupyter-widgets/controls",
          "model_name": "ProgressStyleModel",
          "model_module_version": "1.5.0",
          "state": {
            "_view_name": "StyleView",
            "_model_name": "ProgressStyleModel",
            "description_width": "initial",
            "_view_module": "@jupyter-widgets/base",
            "_model_module_version": "1.5.0",
            "_view_count": null,
            "_view_module_version": "1.2.0",
            "bar_color": null,
            "_model_module": "@jupyter-widgets/controls"
          }
        },
        "ce736b9a63a4441d96dc7fe665251742": {
          "model_module": "@jupyter-widgets/base",
          "model_name": "LayoutModel",
          "model_module_version": "1.2.0",
          "state": {
            "_view_name": "LayoutView",
            "grid_template_rows": null,
            "right": null,
            "justify_content": null,
            "_view_module": "@jupyter-widgets/base",
            "overflow": null,
            "_model_module_version": "1.2.0",
            "_view_count": null,
            "flex_flow": null,
            "width": null,
            "min_width": null,
            "border": null,
            "align_items": null,
            "bottom": null,
            "_model_module": "@jupyter-widgets/base",
            "top": null,
            "grid_column": null,
            "overflow_y": null,
            "overflow_x": null,
            "grid_auto_flow": null,
            "grid_area": null,
            "grid_template_columns": null,
            "flex": "2",
            "_model_name": "LayoutModel",
            "justify_items": null,
            "grid_row": null,
            "max_height": null,
            "align_content": null,
            "visibility": null,
            "align_self": null,
            "height": null,
            "min_height": null,
            "padding": null,
            "grid_auto_rows": null,
            "grid_gap": null,
            "max_width": null,
            "order": null,
            "_view_module_version": "1.2.0",
            "grid_template_areas": null,
            "object_position": null,
            "object_fit": null,
            "grid_auto_columns": null,
            "margin": null,
            "display": null,
            "left": null
          }
        },
        "6777f0c6b5dd4052867be06b8ec187ee": {
          "model_module": "@jupyter-widgets/controls",
          "model_name": "DescriptionStyleModel",
          "model_module_version": "1.5.0",
          "state": {
            "_view_name": "StyleView",
            "_model_name": "DescriptionStyleModel",
            "description_width": "",
            "_view_module": "@jupyter-widgets/base",
            "_model_module_version": "1.5.0",
            "_view_count": null,
            "_view_module_version": "1.2.0",
            "_model_module": "@jupyter-widgets/controls"
          }
        },
        "81357b1f580d4c869f5126aee3c54d7d": {
          "model_module": "@jupyter-widgets/base",
          "model_name": "LayoutModel",
          "model_module_version": "1.2.0",
          "state": {
            "_view_name": "LayoutView",
            "grid_template_rows": null,
            "right": null,
            "justify_content": null,
            "_view_module": "@jupyter-widgets/base",
            "overflow": null,
            "_model_module_version": "1.2.0",
            "_view_count": null,
            "flex_flow": null,
            "width": null,
            "min_width": null,
            "border": null,
            "align_items": null,
            "bottom": null,
            "_model_module": "@jupyter-widgets/base",
            "top": null,
            "grid_column": null,
            "overflow_y": null,
            "overflow_x": null,
            "grid_auto_flow": null,
            "grid_area": null,
            "grid_template_columns": null,
            "flex": null,
            "_model_name": "LayoutModel",
            "justify_items": null,
            "grid_row": null,
            "max_height": null,
            "align_content": null,
            "visibility": null,
            "align_self": null,
            "height": null,
            "min_height": null,
            "padding": null,
            "grid_auto_rows": null,
            "grid_gap": null,
            "max_width": null,
            "order": null,
            "_view_module_version": "1.2.0",
            "grid_template_areas": null,
            "object_position": null,
            "object_fit": null,
            "grid_auto_columns": null,
            "margin": null,
            "display": null,
            "left": null
          }
        },
        "f6f3cfe6f93747f190e89d94c4bfee01": {
          "model_module": "@jupyter-widgets/controls",
          "model_name": "HBoxModel",
          "model_module_version": "1.5.0",
          "state": {
            "_view_name": "HBoxView",
            "_dom_classes": [],
            "_model_name": "HBoxModel",
            "_view_module": "@jupyter-widgets/controls",
            "_model_module_version": "1.5.0",
            "_view_count": null,
            "_view_module_version": "1.5.0",
            "box_style": "",
            "layout": "IPY_MODEL_7b23f60870d44dfbbefb231690780aa2",
            "_model_module": "@jupyter-widgets/controls",
            "children": [
              "IPY_MODEL_003437c06da64682b2c92e8f762f428a",
              "IPY_MODEL_adb2a443022c46f880f271629ff794e3"
            ]
          }
        },
        "7b23f60870d44dfbbefb231690780aa2": {
          "model_module": "@jupyter-widgets/base",
          "model_name": "LayoutModel",
          "model_module_version": "1.2.0",
          "state": {
            "_view_name": "LayoutView",
            "grid_template_rows": null,
            "right": null,
            "justify_content": null,
            "_view_module": "@jupyter-widgets/base",
            "overflow": null,
            "_model_module_version": "1.2.0",
            "_view_count": null,
            "flex_flow": null,
            "width": null,
            "min_width": null,
            "border": null,
            "align_items": null,
            "bottom": null,
            "_model_module": "@jupyter-widgets/base",
            "top": null,
            "grid_column": null,
            "overflow_y": null,
            "overflow_x": null,
            "grid_auto_flow": null,
            "grid_area": null,
            "grid_template_columns": null,
            "flex": null,
            "_model_name": "LayoutModel",
            "justify_items": null,
            "grid_row": null,
            "max_height": null,
            "align_content": null,
            "visibility": null,
            "align_self": null,
            "height": null,
            "min_height": null,
            "padding": null,
            "grid_auto_rows": null,
            "grid_gap": null,
            "max_width": null,
            "order": null,
            "_view_module_version": "1.2.0",
            "grid_template_areas": null,
            "object_position": null,
            "object_fit": null,
            "grid_auto_columns": null,
            "margin": null,
            "display": null,
            "left": null
          }
        },
        "003437c06da64682b2c92e8f762f428a": {
          "model_module": "@jupyter-widgets/controls",
          "model_name": "FloatProgressModel",
          "model_module_version": "1.5.0",
          "state": {
            "_view_name": "ProgressView",
            "style": "IPY_MODEL_1ac362149fbb42039e8c42b1fa953970",
            "_dom_classes": [],
            "description": "100%",
            "_model_name": "FloatProgressModel",
            "bar_style": "success",
            "max": 102502400,
            "_view_module": "@jupyter-widgets/controls",
            "_model_module_version": "1.5.0",
            "value": 102502400,
            "_view_count": null,
            "_view_module_version": "1.5.0",
            "orientation": "horizontal",
            "min": 0,
            "description_tooltip": null,
            "_model_module": "@jupyter-widgets/controls",
            "layout": "IPY_MODEL_4f6004355a1b4dbb8efb45ed8fbcd0eb"
          }
        },
        "adb2a443022c46f880f271629ff794e3": {
          "model_module": "@jupyter-widgets/controls",
          "model_name": "HTMLModel",
          "model_module_version": "1.5.0",
          "state": {
            "_view_name": "HTMLView",
            "style": "IPY_MODEL_88042667f3ba4d499ab8aeb8c41f00b5",
            "_dom_classes": [],
            "description": "",
            "_model_name": "HTMLModel",
            "placeholder": "​",
            "_view_module": "@jupyter-widgets/controls",
            "_model_module_version": "1.5.0",
            "value": " 97.8M/97.8M [00:01&lt;00:00, 69.0MB/s]",
            "_view_count": null,
            "_view_module_version": "1.5.0",
            "description_tooltip": null,
            "_model_module": "@jupyter-widgets/controls",
            "layout": "IPY_MODEL_8e8d498daa554cda943ce68e0da07550"
          }
        },
        "1ac362149fbb42039e8c42b1fa953970": {
          "model_module": "@jupyter-widgets/controls",
          "model_name": "ProgressStyleModel",
          "model_module_version": "1.5.0",
          "state": {
            "_view_name": "StyleView",
            "_model_name": "ProgressStyleModel",
            "description_width": "initial",
            "_view_module": "@jupyter-widgets/base",
            "_model_module_version": "1.5.0",
            "_view_count": null,
            "_view_module_version": "1.2.0",
            "bar_color": null,
            "_model_module": "@jupyter-widgets/controls"
          }
        },
        "4f6004355a1b4dbb8efb45ed8fbcd0eb": {
          "model_module": "@jupyter-widgets/base",
          "model_name": "LayoutModel",
          "model_module_version": "1.2.0",
          "state": {
            "_view_name": "LayoutView",
            "grid_template_rows": null,
            "right": null,
            "justify_content": null,
            "_view_module": "@jupyter-widgets/base",
            "overflow": null,
            "_model_module_version": "1.2.0",
            "_view_count": null,
            "flex_flow": null,
            "width": null,
            "min_width": null,
            "border": null,
            "align_items": null,
            "bottom": null,
            "_model_module": "@jupyter-widgets/base",
            "top": null,
            "grid_column": null,
            "overflow_y": null,
            "overflow_x": null,
            "grid_auto_flow": null,
            "grid_area": null,
            "grid_template_columns": null,
            "flex": null,
            "_model_name": "LayoutModel",
            "justify_items": null,
            "grid_row": null,
            "max_height": null,
            "align_content": null,
            "visibility": null,
            "align_self": null,
            "height": null,
            "min_height": null,
            "padding": null,
            "grid_auto_rows": null,
            "grid_gap": null,
            "max_width": null,
            "order": null,
            "_view_module_version": "1.2.0",
            "grid_template_areas": null,
            "object_position": null,
            "object_fit": null,
            "grid_auto_columns": null,
            "margin": null,
            "display": null,
            "left": null
          }
        },
        "88042667f3ba4d499ab8aeb8c41f00b5": {
          "model_module": "@jupyter-widgets/controls",
          "model_name": "DescriptionStyleModel",
          "model_module_version": "1.5.0",
          "state": {
            "_view_name": "StyleView",
            "_model_name": "DescriptionStyleModel",
            "description_width": "",
            "_view_module": "@jupyter-widgets/base",
            "_model_module_version": "1.5.0",
            "_view_count": null,
            "_view_module_version": "1.2.0",
            "_model_module": "@jupyter-widgets/controls"
          }
        },
        "8e8d498daa554cda943ce68e0da07550": {
          "model_module": "@jupyter-widgets/base",
          "model_name": "LayoutModel",
          "model_module_version": "1.2.0",
          "state": {
            "_view_name": "LayoutView",
            "grid_template_rows": null,
            "right": null,
            "justify_content": null,
            "_view_module": "@jupyter-widgets/base",
            "overflow": null,
            "_model_module_version": "1.2.0",
            "_view_count": null,
            "flex_flow": null,
            "width": null,
            "min_width": null,
            "border": null,
            "align_items": null,
            "bottom": null,
            "_model_module": "@jupyter-widgets/base",
            "top": null,
            "grid_column": null,
            "overflow_y": null,
            "overflow_x": null,
            "grid_auto_flow": null,
            "grid_area": null,
            "grid_template_columns": null,
            "flex": null,
            "_model_name": "LayoutModel",
            "justify_items": null,
            "grid_row": null,
            "max_height": null,
            "align_content": null,
            "visibility": null,
            "align_self": null,
            "height": null,
            "min_height": null,
            "padding": null,
            "grid_auto_rows": null,
            "grid_gap": null,
            "max_width": null,
            "order": null,
            "_view_module_version": "1.2.0",
            "grid_template_areas": null,
            "object_position": null,
            "object_fit": null,
            "grid_auto_columns": null,
            "margin": null,
            "display": null,
            "left": null
          }
        }
      }
    }
  },
  "cells": [
    {
      "cell_type": "markdown",
      "metadata": {
        "id": "view-in-github",
        "colab_type": "text"
      },
      "source": [
        "<a href=\"https://colab.research.google.com/github/Deanazor/hard_helmet/blob/master/detr_training.ipynb\" target=\"_parent\"><img src=\"https://colab.research.google.com/assets/colab-badge.svg\" alt=\"Open In Colab\"/></a>"
      ]
    },
    {
      "cell_type": "code",
      "metadata": {
        "id": "WRGvrvIm98pT",
        "colab": {
          "base_uri": "https://localhost:8080/"
        },
        "outputId": "bac10f64-aa84-4eeb-da3f-f60db6e3f9de"
      },
      "source": [
        "from google.colab import drive, output\n",
        "drive.mount(\"/content/drive\")"
      ],
      "execution_count": 1,
      "outputs": [
        {
          "output_type": "stream",
          "name": "stdout",
          "text": [
            "Drive already mounted at /content/drive; to attempt to forcibly remount, call drive.mount(\"/content/drive\", force_remount=True).\n"
          ]
        }
      ]
    },
    {
      "cell_type": "code",
      "metadata": {
        "id": "WkKrmyes9zff"
      },
      "source": [
        "!rm -rf vortex\n",
        "!git clone https://github.com/nodefluxio/vortex.git\n",
        "!cd vortex && pip install --ignore-installed --timeout=10000 ./src/development\n",
        "!cd vortex && pip install --ignore-installed --timeout=10000 ./src/runtime[onnxruntime]\n",
        "# see https://github.com/PyTorchLightning/pytorch-lightning/issues/4533\n",
        "!pip install torchtext==0.7\n",
        "output.clear()"
      ],
      "execution_count": 6,
      "outputs": []
    },
    {
      "cell_type": "code",
      "metadata": {
        "colab": {
          "base_uri": "https://localhost:8080/"
        },
        "id": "8RC6wH5C-AsW",
        "outputId": "b444c542-6ef2-4239-df19-4836ce742b18"
      },
      "source": [
        "!pip install --force-reinstall tqdm==4.49"
      ],
      "execution_count": 7,
      "outputs": [
        {
          "output_type": "stream",
          "name": "stdout",
          "text": [
            "Collecting tqdm==4.49\n",
            "  Downloading tqdm-4.49.0-py2.py3-none-any.whl (69 kB)\n",
            "\u001b[?25l\r\u001b[K     |████▊                           | 10 kB 27.3 MB/s eta 0:00:01\r\u001b[K     |█████████▍                      | 20 kB 26.1 MB/s eta 0:00:01\r\u001b[K     |██████████████                  | 30 kB 12.2 MB/s eta 0:00:01\r\u001b[K     |██████████████████▉             | 40 kB 9.9 MB/s eta 0:00:01\r\u001b[K     |███████████████████████▌        | 51 kB 4.4 MB/s eta 0:00:01\r\u001b[K     |████████████████████████████▏   | 61 kB 4.6 MB/s eta 0:00:01\r\u001b[K     |████████████████████████████████| 69 kB 3.0 MB/s \n",
            "\u001b[?25hInstalling collected packages: tqdm\n",
            "  Attempting uninstall: tqdm\n",
            "    Found existing installation: tqdm 4.62.3\n",
            "    Uninstalling tqdm-4.62.3:\n",
            "      Successfully uninstalled tqdm-4.62.3\n",
            "\u001b[31mERROR: pip's dependency resolver does not currently take into account all the packages that are installed. This behaviour is the source of the following dependency conflicts.\n",
            "moviepy 0.2.3.5 requires decorator<5.0,>=4.0.2, but you have decorator 5.1.0 which is incompatible.\u001b[0m\n",
            "Successfully installed tqdm-4.62.2\n"
          ]
        }
      ]
    },
    {
      "cell_type": "markdown",
      "metadata": {
        "id": "iY1mmnBSS9dp"
      },
      "source": [
        "<h2>Restart notebook after finish install</h2>"
      ]
    },
    {
      "cell_type": "code",
      "metadata": {
        "id": "HjNBLMFBlfsV"
      },
      "source": [
        "from google.colab import output"
      ],
      "execution_count": 2,
      "outputs": []
    },
    {
      "cell_type": "code",
      "metadata": {
        "id": "mMl7oC3skEX6"
      },
      "source": [
        "!gdown --id 1kBZCghfd7YCR0YvJEcb84DbpoTcVNmpq\n",
        "!gdown --id 1H81OPUoec_Eae67VaAFOguwbW3poovR-\n",
        "!gdown --id 1HR7uNYUrG932aoBjS1uq27I5xfMaW31x\n",
        "!gdown --id 15Az6cIdA1RotN3TkaN9GhZD9nH-bClnZ\n",
        "output.clear()"
      ],
      "execution_count": 3,
      "outputs": []
    },
    {
      "cell_type": "code",
      "metadata": {
        "id": "BrtYjZCrzv1g"
      },
      "source": [
        "!mkdir module\n",
        "!mv /content/dataset.py /content/module\n",
        "!mv /content/model.py /content/module\n",
        "!mv /content/utils.py /content/module"
      ],
      "execution_count": 4,
      "outputs": []
    },
    {
      "cell_type": "code",
      "metadata": {
        "id": "9G_XOjpe-E9i"
      },
      "source": [
        "import numpy as np\n",
        "import torch\n",
        "import torch.nn as nn\n",
        "import torch.optim as optim\n",
        "import torchvision as vision\n",
        "import os\n",
        "\n",
        "import pytorch_lightning as pl\n",
        "\n",
        "from collections import OrderedDict\n",
        "\n",
        "from vortex.development.utils.registry import Registry\n",
        "from vortex.development.networks.models import ModelBase\n",
        "from vortex.development.utils.profiler.lightning import Profiler\n",
        "from abc import abstractmethod\n",
        "\n",
        "from vortex.development.exporter.onnx import ONNXExporter\n",
        "from vortex.development.utils.runtime_wrapper import RuntimeWrapper\n",
        "\n",
        "from easydict import EasyDict\n",
        "from copy import copy\n",
        "from pathlib import Path"
      ],
      "execution_count": 5,
      "outputs": []
    },
    {
      "cell_type": "code",
      "metadata": {
        "id": "OwVh-r6AErQs"
      },
      "source": [
        "from module.model import build_model\n",
        "from module.dataset import build_dataset, BetterCOCO, COCODetection, VOCDetection, CocoEvaluator\n",
        "from module.utils import collate_fn"
      ],
      "execution_count": 6,
      "outputs": []
    },
    {
      "cell_type": "markdown",
      "metadata": {
        "id": "a_PPuyAiSv4E"
      },
      "source": [
        "# Vortex Classes"
      ]
    },
    {
      "cell_type": "markdown",
      "metadata": {
        "id": "iq4XY90RSxd1"
      },
      "source": [
        "## Data Class"
      ]
    },
    {
      "cell_type": "code",
      "metadata": {
        "id": "dGLM9OE0EtLd"
      },
      "source": [
        "class DataLoader(pl.LightningDataModule):\n",
        "    def __init__(self, args: dict):\n",
        "        super().__init__()\n",
        "        # assume args has the following structure\n",
        "        # module: '...', args: {...}\n",
        "        self.args = args['dataset']\n",
        "        self.loader_args = args['dataloader']\n",
        "        self.prepare_data()\n",
        "    \n",
        "    def _init_train_set(self):\n",
        "        # support VOC and COCO dataset\n",
        "        args = self.args\n",
        "        args['args'].update({'image_set': 'train'})\n",
        "        self.train_dataset = build_dataset(**args)\n",
        "        # VOC has 20 class and COCO actually has 80 class,\n",
        "        # but from DETR model, it is defined as 91 class with some class defined as N/A.\n",
        "        if isinstance(self.train_dataset,VOCDetection):\n",
        "            self.num_classes = 3\n",
        "        elif isinstance(self.train_dataset,COCODetection):\n",
        "            self.num_classes = 3\n",
        "    \n",
        "    def _init_val_set(self):\n",
        "        args = self.args\n",
        "        # validate on train for now\n",
        "        args['args'].update({'image_set': 'train'})\n",
        "        self.val_dataset = build_dataset(**args)\n",
        "        if isinstance(self.val_dataset, VOCDetection):\n",
        "            # we customize VOC dataset to be able to use COCO validator\n",
        "            # here we convert our dataset to COCO format for validation and\n",
        "            # load as coco dataset. Note that BetterCOCO dataset is derived from COCO\n",
        "            # with additional method to easily visualize image and label using mapping style\n",
        "            filename = Path('tmp/coco_fmt.json')\n",
        "            filename.parent.mkdir(exist_ok=True,parents=True)\n",
        "            self.val_dataset.to_coco(filename=filename)\n",
        "            self.val_coco_fmt = BetterCOCO(filename)\n",
        "        else: # assume COCO\n",
        "            filename = args['args']['ann_file']\n",
        "            root = args['args']['img_folder']\n",
        "            self.val_coco_fmt = BetterCOCO(filename,root=root)\n",
        "\n",
        "    def prepare_data(self):\n",
        "        if not hasattr(self, 'train_dataset'):\n",
        "            self._init_train_set()\n",
        "        if not hasattr(self, 'val_dataset'):\n",
        "            self._init_val_set()\n",
        "    \n",
        "    def train_dataloader(self):\n",
        "        kwargs = self.loader_args\n",
        "        kwargs.update({'collate_fn': collate_fn})\n",
        "        return torch.utils.data.DataLoader(self.train_dataset, **kwargs)\n",
        "    \n",
        "    def val_dataloader(self):\n",
        "        kwargs = copy(self.loader_args)\n",
        "        kwargs.update(dict(\n",
        "            collate_fn=collate_fn,\n",
        "            shuffle=False\n",
        "        ))\n",
        "        return torch.utils.data.DataLoader(self.val_dataset, **kwargs)\n",
        "\n",
        "import os, sys\n",
        "\n",
        "# Helper contex manager to suppress python print to std out.\n",
        "# This will be used to disable COCO evaluator print.\n",
        "class SuppressedPrints:\n",
        "    def __enter__(self):\n",
        "        self._original_stdout = sys.stdout\n",
        "        sys.stdout = open(os.devnull, 'w')\n",
        "\n",
        "    def __exit__(self, exc_type, exc_val, exc_tb):\n",
        "        sys.stdout.close()\n",
        "        sys.stdout = self._original_stdout"
      ],
      "execution_count": 7,
      "outputs": []
    },
    {
      "cell_type": "markdown",
      "metadata": {
        "id": "LkMkSlUcS07_"
      },
      "source": [
        "## Model Class"
      ]
    },
    {
      "cell_type": "code",
      "metadata": {
        "id": "PRdYHpKJlRSg"
      },
      "source": [
        "class DETR(ModelBase):\n",
        "    def __init__(self, args: dict, gt=None):\n",
        "        super().__init__()\n",
        "        args.setdefault('device', self.device)\n",
        "        args.setdefault('num_classes', 3)\n",
        "        args = EasyDict(args)\n",
        "        self.args = args\n",
        "        model, criterion, postprocessors = build_model(args)\n",
        "        self.model = model\n",
        "        self.criterion = criterion\n",
        "        self.postprocessors = postprocessors\n",
        "        self.init_evaluator(gt)\n",
        "    \n",
        "    def init_evaluator(self, gt=None):\n",
        "        # gt can be COCO object from pycocotools or None (can be specified later)\n",
        "        # here we use CocoEvaluator from pycocotools to validate the model.\n",
        "        # This method may need to be recalled again after validation to reset the state\n",
        "        # of the validator\n",
        "        self.gt = gt\n",
        "        self.coco_evaluator = CocoEvaluator(self.gt, ['bbox']) \\\n",
        "            if self.gt else None\n",
        "\n",
        "    def available_metrics(self):\n",
        "        # skip for now\n",
        "        return None\n",
        "\n",
        "    def output_format(self):\n",
        "        # skip for now\n",
        "        return {}\n",
        "\n",
        "    def predict(self, *args, **kwargs):\n",
        "        # simply do forward for now\n",
        "        return self.model(*args,**kwargs)\n",
        "    \n",
        "    def forward(self, x):\n",
        "        return self.model(x)\n",
        "    \n",
        "    def training_step(self, batch, batch_idx):\n",
        "        x, y = batch\n",
        "        y_hat = self(x)\n",
        "        loss_dict = self.criterion(y_hat, y)\n",
        "        # weight for each loss\n",
        "        weight_dict = self.criterion.weight_dict\n",
        "        # total loss\n",
        "        loss = sum(loss_dict[k] * weight_dict[k] for k in loss_dict.keys() if k in weight_dict)\n",
        "        # log totall loss\n",
        "        self.log('train_loss', loss.detach(), on_step=True, on_epoch=True, prog_bar=True, logger=True)\n",
        "        return loss\n",
        "    \n",
        "    def validation_step(self, batch, batch_idx):\n",
        "        x, targets = batch\n",
        "        outputs = self(x)\n",
        "        # output is dictionary with 'pred_logits', 'pred_boxes', 'aux_outputs' fields\n",
        "        # with:\n",
        "        # - pred_logits' shape: NxDx(C+1) where C is number of classes\n",
        "        # - pred_boxes' shape: NxDx4\n",
        "        loss_dict = self.criterion(outputs, targets)\n",
        "        weight_dict = self.criterion.weight_dict\n",
        "        loss = sum(loss_dict[k] * weight_dict[k] for k in loss_dict.keys() if k in weight_dict)\n",
        "        self.log('val_loss', loss.detach(), logger=True)\n",
        "        if self.coco_evaluator is None:\n",
        "            return\n",
        "        orig_target_sizes = torch.stack([t[\"orig_size\"] for t in targets], dim=0)\n",
        "        results = self.postprocessors['bbox'](outputs, orig_target_sizes)\n",
        "        # can't be empty for now, skip if empty\n",
        "        if len(results) == 0:\n",
        "            return\n",
        "        res = {int(target['image_id']): output for target, output in zip(targets, results)}\n",
        "        self.coco_evaluator.update(res)\n",
        "    \n",
        "    def validation_epoch_end(self, validation_step_outputs):\n",
        "        coco_evaluator = self.coco_evaluator\n",
        "        if coco_evaluator is not None:\n",
        "            # cant compute on empty results\n",
        "            if len(coco_evaluator.eval_imgs['bbox']):\n",
        "                with SuppressedPrints():\n",
        "                    coco_evaluator.synchronize_between_processes()\n",
        "                    coco_evaluator.accumulate()\n",
        "                    coco_evaluator.summarize()\n",
        "                res = coco_evaluator.coco_eval['bbox'].stats.tolist()\n",
        "                params = coco_evaluator.coco_eval['bbox'].params\n",
        "                iou_low, iou_high = params.iouThrs[0], params.iouThrs[-1]\n",
        "                max_det_l, max_det_m, max_det_h = params.maxDets\n",
        "                legends = [\n",
        "                    f'(AP) @[ IoU={iou_low}:{iou_high} | area=   all | maxDets={max_det_h} ]',\n",
        "                    f'(AP) @[ IoU=0.50      | area=   all | maxDets={max_det_h} ]',\n",
        "                    f'(AP) @[ IoU=0.75      | area=   all | maxDets={max_det_h} ]',\n",
        "                    f'(AP) @[ IoU={iou_low}:{iou_high} | area= small | maxDets={max_det_h} ]',\n",
        "                    f'(AP) @[ IoU={iou_low}:{iou_high} | area=medium | maxDets={max_det_h} ]',\n",
        "                    f'(AP) @[ IoU={iou_low}:{iou_high} | area= large | maxDets={max_det_h} ]',\n",
        "                    f'(AR) @[ IoU={iou_low}:{iou_high} | area=   all | maxDets={max_det_l} ]',\n",
        "                    f'(AR) @[ IoU={iou_low}:{iou_high} | area=   all | maxDets={max_det_m} ]',\n",
        "                    f'(AR) @[ IoU={iou_low}:{iou_high} | area= small | maxDets={max_det_h} ]',\n",
        "                    f'(AR) @[ IoU={iou_low}:{iou_high} | area=medium | maxDets={max_det_h} ]',\n",
        "                    f'(AR) @[ IoU={iou_low}:{iou_high} | area= large | maxDets={max_det_h} ]',\n",
        "                ]\n",
        "                self.log_dict(dict(zip(legends,res)), on_epoch=True, prog_bar=False, logger=True)\n",
        "                mAP, mAP50, mAP75 = res[:3]\n",
        "            # for empty results, just report zero for now\n",
        "            else:\n",
        "                mAP, mAP50, mAP75 = 0, 0, 0\n",
        "            self.log('mean AP', mAP, on_epoch=True, logger=True, prog_bar=True)\n",
        "            self.log('mean AP (50)', mAP50, on_epoch=True, logger=True, prog_bar=True)\n",
        "            self.log('mean AP (75)', mAP75, on_epoch=True, logger=True, prog_bar=True)\n",
        "        self.init_evaluator(self.gt) # restart evaluator for next epoch\n",
        "    \n",
        "    def configure_optimizers(self):\n",
        "        args = self.args\n",
        "        model_without_ddp = self.model\n",
        "        param_dicts = [\n",
        "            {\"params\": [p for n, p in model_without_ddp.named_parameters() if \"backbone\" not in n and p.requires_grad]},\n",
        "            {\n",
        "                \"params\": [p for n, p in model_without_ddp.named_parameters() if \"backbone\" in n and p.requires_grad],\n",
        "                \"lr\": args.lr_backbone,\n",
        "            },\n",
        "        ]\n",
        "        optimizer = torch.optim.AdamW(param_dicts, lr=args.lr,\n",
        "                                    weight_decay=args.weight_decay)\n",
        "        lr_scheduler = torch.optim.lr_scheduler.StepLR(optimizer, args.lr_drop)\n",
        "        return dict(\n",
        "            optimizer=optimizer,\n",
        "            lr_scheduler=lr_scheduler,\n",
        "        )"
      ],
      "execution_count": 8,
      "outputs": []
    },
    {
      "cell_type": "code",
      "metadata": {
        "id": "E3AGfqD6sau8"
      },
      "source": [
        "CLASSES = [\n",
        "            'head',\n",
        "           'helmet',\n",
        "           'person'\n",
        "]\n",
        "\n",
        "def box_cxcywh_to_xyxy(x):\n",
        "    x_c, y_c, w, h = x.unbind(1)\n",
        "    b = [(x_c - 0.5 * w), (y_c - 0.5 * h),\n",
        "         (x_c + 0.5 * w), (y_c + 0.5 * h)]\n",
        "    return torch.stack(b, dim=1)\n",
        "\n",
        "def rescale_bboxes(out_bbox, size):\n",
        "    img_w, img_h = size\n",
        "    b = box_cxcywh_to_xyxy(out_bbox)\n",
        "    b = b * torch.tensor([img_w, img_h, img_w, img_h], dtype=torch.float32)\n",
        "    return b\n",
        "\n",
        "def detect(im, model, transform):\n",
        "    # mean-std normalize the input image (batch-size: 1)\n",
        "    img = transform(im).unsqueeze(0)\n",
        "\n",
        "    # demo model only support by default images with aspect ratio between 0.5 and 2\n",
        "    # if you want to use images with an aspect ratio outside this range\n",
        "    # rescale your image so that the maximum size is at most 1333 for best results\n",
        "    assert img.shape[-2] <= 1600 and img.shape[-1] <= 1600, 'demo model only supports images up to 1600 pixels on each side'\n",
        "\n",
        "    # propagate through the model\n",
        "    outputs = model(img)\n",
        "\n",
        "    # keep only predictions with 0.7+ confidence\n",
        "    probas = outputs['pred_logits'].softmax(-1)[0, :, :-1]\n",
        "    keep = probas.max(-1).values > 0.7\n",
        "\n",
        "    # convert boxes from [0; 1] to image scales\n",
        "    bboxes_scaled = rescale_bboxes(outputs['pred_boxes'][0, keep], im.size)\n",
        "    return probas[keep], bboxes_scaled"
      ],
      "execution_count": 9,
      "outputs": []
    },
    {
      "cell_type": "code",
      "metadata": {
        "id": "r1OIzGwZHkJd"
      },
      "source": [
        "class DETRPreprocess(nn.Module):\n",
        "    __constants__ = ['mean','std','scale']\n",
        "    def __init__(self):\n",
        "        super().__init__()\n",
        "        #  value for RGB\n",
        "        mean = torch.tensor([0.485, 0.456, 0.406]).reshape(-1,1,1)\n",
        "        std  = torch.tensor([0.229, 0.224, 0.225]).reshape(-1,1,1)\n",
        "        # scale to 0...1\n",
        "        scale = torch.tensor([255.],dtype=torch.float32)\n",
        "        self.register_buffer('mean', mean)\n",
        "        self.register_buffer('std', std)\n",
        "        self.register_buffer('scale', scale)\n",
        "    \n",
        "    def forward(self, x):\n",
        "        # assume NHWC layout,\n",
        "        # reverse order from BGR to RGB\n",
        "        # since the weight is trained in RGB format\n",
        "        x = torch.flip(x,[-1])\n",
        "        # transpose from NHWC to NCHW\n",
        "        x = x.permute(0,3,1,2)\n",
        "        # finally normalize the value\n",
        "        # and we're done\n",
        "        x = x.div(self.scale)\n",
        "        x = x.sub_(self.mean).div_(self.std)\n",
        "        return x"
      ],
      "execution_count": 10,
      "outputs": []
    },
    {
      "cell_type": "code",
      "metadata": {
        "id": "_IPLqV6MHlim"
      },
      "source": [
        "class DETRPostProcess(nn.Module):\n",
        "    def __init__(self):\n",
        "        super().__init__()\n",
        "    \n",
        "    def forward(self, outputs, score_threshold):\n",
        "        # from the model above, we know that the output is dictionary of tensor\n",
        "        out_logits, out_bbox = outputs['pred_logits'], outputs['pred_boxes']\n",
        "\n",
        "        # peform softmax and extract confidence score and labels\n",
        "        prob = torch.nn.functional.softmax(out_logits, -1)\n",
        "        scores, labels = prob[..., :-1].max(-1)\n",
        "\n",
        "        # selection based on threshold\n",
        "        # assume single batch\n",
        "        keep = scores > score_threshold\n",
        "        keep = keep.nonzero()[...,-1]\n",
        "        out_bbox = torch.index_select(out_bbox,index=keep,dim=1)\n",
        "        # unsqueeze to match dimension of out_bbox\n",
        "        scores = torch.index_select(scores,index=keep,dim=1).unsqueeze(-1)\n",
        "        labels = torch.index_select(labels,index=keep,dim=1).float().unsqueeze(-1)\n",
        "\n",
        "        # convert to xyxy and then join them together\n",
        "        # also note the order of the output tensor, no specific order is necessary\n",
        "        # but we'll tell vortex about our format later.\n",
        "        # For clarity, this format is [x1,y1,x2,y2,score,label] for each detected instance.\n",
        "        # Also note that we have 3-dimensional output NxDx6,\n",
        "        # where N is number of batch (1 in this case), D is the number of detected object,\n",
        "        # and 6 is the detection value (bounding box, scores and label).\n",
        "        bboxes = box_cxcywh_to_xyxy(out_bbox.squeeze(0)).unsqueeze(0)\n",
        "        return torch.cat((bboxes,scores,labels),-1)"
      ],
      "execution_count": 11,
      "outputs": []
    },
    {
      "cell_type": "code",
      "metadata": {
        "id": "kTk-vDpRHoEq"
      },
      "source": [
        "class DETRInference(nn.Module):\n",
        "    def __init__(self,args, torch_path=None):\n",
        "        super().__init__()\n",
        "        self.detr = DETR(args)\n",
        "        self.preprocess  = DETRPreprocess()\n",
        "        self.postprocess = DETRPostProcess()\n",
        "        if torch_path is not None:\n",
        "            self.detr.load_state_dict(torch.load(torch_path, map_location=torch.device('cpu')))\n",
        "\n",
        "    def forward(self, x, score_threshold):\n",
        "        x = self.preprocess(x)\n",
        "        output = self.detr(x)\n",
        "        x = {'pred_logits':output['pred_logits'],\n",
        "             'pred_boxes' : output['pred_boxes']}\n",
        "        x = self.postprocess(x,score_threshold)\n",
        "        return x"
      ],
      "execution_count": 14,
      "outputs": []
    },
    {
      "cell_type": "markdown",
      "metadata": {
        "id": "Ar5jarHzS3Ru"
      },
      "source": [
        "## Helper Functions"
      ]
    },
    {
      "cell_type": "code",
      "metadata": {
        "id": "zpASBsOElVYp"
      },
      "source": [
        "# Helper function to create pytorch lighnting's trainer.\n",
        "# Accepts dictionary containing trainer configuration and return Trainer instance.\n",
        "def build_trainer(args: dict):\n",
        "    args = EasyDict(args['trainer'])\n",
        "    loggers = [\n",
        "        pl.loggers.TensorBoardLogger('logs/'),\n",
        "    ]\n",
        "    trainer = pl.Trainer(\n",
        "        max_epochs=args.max_epochs, gpus=args.gpus, logger=loggers,\n",
        "        check_val_every_n_epoch=args.check_val_every_n_epoch\n",
        "    )\n",
        "    return trainer\n",
        "\n",
        "def load_state_dict(backbone):\n",
        "    if backbone=='resnet50':\n",
        "        state_dict = torch.hub.load_state_dict_from_url(\n",
        "            url='https://dl.fbaipublicfiles.com/detr/detr-r50-e632da11.pth',\n",
        "            map_location='cpu', check_hash=True)\n",
        "        return state_dict\n",
        "\n",
        "def train(args: dict, model, dataset, onnx_path=None, torch_path=None):\n",
        "    # let's start from pretrained to save time\n",
        "    # here we will start from fully pretrained model if we are training on COCO,\n",
        "    # for VOC, we'll take the pretrained coco but class embedding layers.\n",
        "    state_dict = load_state_dict(args['backbone'])\n",
        "\n",
        "    if torch_path is not None and os.path.isfile(torch_path):\n",
        "        model.load_state_dict(torch.load(torch_path))\n",
        "    elif state_dict is not None:\n",
        "        if dataset.num_classes==91:\n",
        "            # we have coco here, can safely load all from state dict\n",
        "            model.model.load_state_dict(state_dict['model'],strict=True)\n",
        "        else:\n",
        "            # reject trained class embedding, return to random\n",
        "            filtered = list(filter(lambda x: 'class_embed' not in x, state_dict['model'].keys()))\n",
        "            state_dict = {key: state_dict['model'][key] for key in filtered}\n",
        "            model.model.load_state_dict(state_dict,strict=False)\n",
        "    trainer = build_trainer(args)\n",
        "    # pass gt from dataset to model's evaluator\n",
        "    val_gt = dataset.val_coco_fmt\n",
        "    model.init_evaluator(val_gt)\n",
        "    # do some training\n",
        "    trainer.fit(model, dataset)\n",
        "\n",
        "    if onnx_path is not None:\n",
        "        exporter = ONNXExporter(dataset=dataset)\n",
        "        exporter(model, onnx_path)\n",
        "    if torch_path is not None:\n",
        "        torch.save(model.state_dict(), torch_path)"
      ],
      "execution_count": null,
      "outputs": []
    },
    {
      "cell_type": "markdown",
      "metadata": {
        "id": "29cKtGGoSiSI"
      },
      "source": [
        "# Training"
      ]
    },
    {
      "cell_type": "markdown",
      "metadata": {
        "id": "L3NOC7haSkY-"
      },
      "source": [
        "## Load config file"
      ]
    },
    {
      "cell_type": "code",
      "metadata": {
        "colab": {
          "base_uri": "https://localhost:8080/"
        },
        "id": "Kd3X6RTFOl0K",
        "outputId": "03b9d630-e531-473b-bed5-0b5fe67e18dd"
      },
      "source": [
        "import argparse\n",
        "import yaml\n",
        "if hasattr(__builtins__,'__IPYTHON__'):\n",
        "    # running on notebook, for demonstration purpose\n",
        "    config_file = 'config.yml'\n",
        "else:\n",
        "    parser = argparse.ArgumentParser()\n",
        "    parser.add_argument('--config',default='config.yml')\n",
        "    args = parser.parse_args()\n",
        "    config_file = args.config\n",
        "with open(config_file) as f:\n",
        "    args = yaml.load(f)"
      ],
      "execution_count": 18,
      "outputs": [
        {
          "output_type": "stream",
          "name": "stderr",
          "text": [
            "/usr/local/lib/python3.7/dist-packages/ipykernel_launcher.py:12: YAMLLoadWarning:\n",
            "\n",
            "calling yaml.load() without Loader=... is deprecated, as the default Loader is unsafe. Please read https://msg.pyyaml.org/load for full details.\n",
            "\n"
          ]
        }
      ]
    },
    {
      "cell_type": "markdown",
      "metadata": {
        "id": "revfD0b3SmkE"
      },
      "source": [
        "## Create model and dataset object"
      ]
    },
    {
      "cell_type": "code",
      "metadata": {
        "colab": {
          "base_uri": "https://localhost:8080/"
        },
        "id": "TtcgL3lTQPRj",
        "outputId": "d2575734-c5a0-4113-9ed3-f31fe8633992"
      },
      "source": [
        "dataset = DataLoader(args)\n",
        "args.update({'num_classes': dataset.num_classes})\n",
        "model = DETR(args)"
      ],
      "execution_count": null,
      "outputs": [
        {
          "output_type": "stream",
          "name": "stdout",
          "text": [
            "loading annotations into memory...\n",
            "Done (t=0.09s)\n",
            "creating index...\n",
            "index created!\n",
            "loading annotations into memory...\n",
            "Done (t=0.09s)\n",
            "creating index...\n",
            "index created!\n",
            "loading annotations into memory...\n",
            "Done (t=0.10s)\n",
            "creating index...\n",
            "index created!\n"
          ]
        }
      ]
    },
    {
      "cell_type": "markdown",
      "metadata": {
        "id": "Lmq-lzukVudW"
      },
      "source": [
        "## save paths"
      ]
    },
    {
      "cell_type": "code",
      "metadata": {
        "id": "lJvMimFNTqkn"
      },
      "source": [
        "path = \"/content/drive/MyDrive/project_3/\"\n",
        "onnx_path = path + 'saved_models/helmet_model.onnx'\n",
        "torch_path = path + 'saved_models/helmet_model.pth'"
      ],
      "execution_count": null,
      "outputs": []
    },
    {
      "cell_type": "markdown",
      "metadata": {
        "id": "arql7JqHSr0O"
      },
      "source": [
        "## Train model"
      ]
    },
    {
      "cell_type": "code",
      "metadata": {
        "colab": {
          "base_uri": "https://localhost:8080/",
          "height": 525,
          "referenced_widgets": [
            "31860286bc944f8cb372f6e987d8acda",
            "01449a114c6949f2833df4626d176280",
            "56664880966c40629f55b77537a7102c",
            "2983c8e7775749679331bde59870f4a9",
            "ce49cbb4d2094911be427a2b132950ae",
            "8247fab2d6b94e7c9428b0144f35a1eb",
            "bdeb70cf28974eb5a09093502e837553",
            "3922444a2b8541bea2d27f187f9e7a27",
            "dbd5e867aa0f4cbba8e5d371baf6aca0",
            "abffefcb18324c9583e5ca5af166caf6",
            "23142bf88b824ff69a579342fa4da6eb",
            "12bedfa8951341e5a95db7460601bdbd",
            "47230275e7b443cba798700ead62035c",
            "ce736b9a63a4441d96dc7fe665251742",
            "6777f0c6b5dd4052867be06b8ec187ee",
            "81357b1f580d4c869f5126aee3c54d7d"
          ]
        },
        "id": "AV8RlujJQa-i",
        "outputId": "5ca2c1ef-e999-4d97-aad4-fde6c5acfd08"
      },
      "source": [
        "train(args, model, dataset, torch_path=torch_path)"
      ],
      "execution_count": null,
      "outputs": [
        {
          "output_type": "stream",
          "name": "stderr",
          "text": [
            "/usr/local/lib/python3.7/dist-packages/pytorch_lightning/utilities/distributed.py:49: UserWarning:\n",
            "\n",
            "You have set progress_bar_refresh_rate < 20 on Google Colab. This may crash. Consider using progress_bar_refresh_rate >= 20 in Trainer.\n",
            "\n",
            "GPU available: True, used: True\n",
            "INFO:lightning:GPU available: True, used: True\n",
            "TPU available: None, using: 0 TPU cores\n",
            "INFO:lightning:TPU available: None, using: 0 TPU cores\n",
            "LOCAL_RANK: 0 - CUDA_VISIBLE_DEVICES: [0]\n",
            "INFO:lightning:LOCAL_RANK: 0 - CUDA_VISIBLE_DEVICES: [0]\n",
            "\n",
            "  | Name      | Type         | Params\n",
            "-------------------------------------------\n",
            "0 | model     | DETR         | 41.5 M\n",
            "1 | criterion | SetCriterion | 0     \n",
            "-------------------------------------------\n",
            "41.3 M    Trainable params\n",
            "222 K     Non-trainable params\n",
            "41.5 M    Total params\n",
            "INFO:lightning:\n",
            "  | Name      | Type         | Params\n",
            "-------------------------------------------\n",
            "0 | model     | DETR         | 41.5 M\n",
            "1 | criterion | SetCriterion | 0     \n",
            "-------------------------------------------\n",
            "41.3 M    Trainable params\n",
            "222 K     Non-trainable params\n",
            "41.5 M    Total params\n"
          ]
        },
        {
          "output_type": "display_data",
          "data": {
            "application/vnd.jupyter.widget-view+json": {
              "model_id": "31860286bc944f8cb372f6e987d8acda",
              "version_minor": 0,
              "version_major": 2
            },
            "text/plain": [
              "HBox(children=(FloatProgress(value=1.0, bar_style='info', description='Validation sanity check', layout=Layout…"
            ]
          },
          "metadata": {}
        },
        {
          "output_type": "display_data",
          "data": {
            "application/vnd.jupyter.widget-view+json": {
              "model_id": "dbd5e867aa0f4cbba8e5d371baf6aca0",
              "version_minor": 0,
              "version_major": 2
            },
            "text/plain": [
              "HBox(children=(FloatProgress(value=1.0, bar_style='info', description='Training', layout=Layout(flex='2'), max…"
            ]
          },
          "metadata": {}
        }
      ]
    },
    {
      "cell_type": "markdown",
      "metadata": {
        "id": "yd9TwDCSxDwi"
      },
      "source": [
        "# Export"
      ]
    },
    {
      "cell_type": "code",
      "metadata": {
        "id": "TCxXXUBgJkp5"
      },
      "source": [
        "import urllib\n",
        "from PIL import Image"
      ],
      "execution_count": 15,
      "outputs": []
    },
    {
      "cell_type": "code",
      "metadata": {
        "id": "Mv-z_l3uJn-J"
      },
      "source": [
        "import argparse\n",
        "import yaml\n",
        "if hasattr(__builtins__,'__IPYTHON__'):\n",
        "    # running on notebook, for demonstration purpose\n",
        "    config_file = 'config.yml'\n",
        "else:\n",
        "    parser = argparse.ArgumentParser()\n",
        "    parser.add_argument('--config',default='config.yml')\n",
        "    args = parser.parse_args()\n",
        "    config_file = args.config\n",
        "with open(config_file) as f:\n",
        "    args = yaml.load(f)\n",
        "\n",
        "path = \"/content/drive/MyDrive/project_3/\"\n",
        "onnx_path = path + 'saved_models/helmet_model.onnx'\n",
        "torch_path = path + 'saved_models/helmet_model.pth'\n",
        "import cv2\n",
        "size = (480,640)"
      ],
      "execution_count": 16,
      "outputs": []
    },
    {
      "cell_type": "code",
      "metadata": {
        "id": "4NOPjm4WI9V4"
      },
      "source": [
        "def test_image(filename, as_numpy=True):\n",
        "    img = Image.open(filename)\n",
        "\n",
        "    if as_numpy:\n",
        "        img = np.array(img)\n",
        "        img = np.expand_dims(img,0)\n",
        "    return img"
      ],
      "execution_count": 17,
      "outputs": []
    },
    {
      "cell_type": "code",
      "metadata": {
        "id": "iKNFIsRXu3Ri"
      },
      "source": [
        "def export(torch_path, filename, example_path):\n",
        "    detr = DETRInference(args, torch_path)\n",
        "    # state_dict = torch.load(torch_path)\n",
        "    # detr.load_state_dict(state_dict)\n",
        "    # detr.eval()\n",
        "    # detr.load_state_dict(torch.load(torch_path, map_location=torch.device('cpu')))\n",
        "    detr.eval()\n",
        "\n",
        "    # read the test image, then resize it\n",
        "    img = test_image(example_path)\n",
        "    img = cv2.resize(img[0],size[::-1])\n",
        "    img = torch.from_numpy(img).unsqueeze(0)\n",
        "\n",
        "    export_args = dict(\n",
        "        input_names=[\"input\", \"score_threshold\"],\n",
        "        output_names=[\"output\"],\n",
        "        opset_version=11,\n",
        "    )\n",
        "\n",
        "    # use torch.onnx to export\n",
        "    example_input = (img,torch.tensor([0.7]))\n",
        "    torch.onnx.export(detr,example_input,filename,**export_args)\n",
        "\n",
        "    # having exported the output, now we'll add additional property to the model\n",
        "    import vortex.runtime.onnx.graph_ops.embed_model_property as g\n",
        "    import onnx\n",
        "\n",
        "    # First, lets prepare output_format, this will be used to construct\n",
        "    # the final output by applying np.take for each batch.\n",
        "    # The format is nested dictionary with outer dict represents the\n",
        "    # name of output and the inner dictionary represents arguments for take,\n",
        "    # that is indices and axis (see numpy take docs for more detail).\n",
        "    #\n",
        "    # In this case we have 3-dimensional array with NxDx6 shape, so\n",
        "    # vortex will apply item selection at Dx6 array. So we'll apply\n",
        "    # slicing (take) at axis 1.\n",
        "    # \n",
        "    # As mentioned in postprocess section we'll returning tensor\n",
        "    # with [x1,y1,x2,y2,score,label] for each detection,\n",
        "    # so for bounding_box, we'll select indices 0 to 3,\n",
        "    # index 4 for score, and index 5 for label.\n",
        "\n",
        "    # will use InferenceHelper which assume the following names,\n",
        "    # if different names are desired, may customize visualizer\n",
        "    output_format = dict(\n",
        "        bounding_box=dict(\n",
        "            indices=[0,1,2,3],\n",
        "            axis=1,\n",
        "        ),\n",
        "        class_confidence=dict(\n",
        "            indices=[4],\n",
        "            axis=1,\n",
        "        ),\n",
        "        class_label=dict(\n",
        "            indices=[5],\n",
        "            axis=1,\n",
        "        )\n",
        "    )\n",
        "    # class_names is just list of string\n",
        "    class_names = CLASSES\n",
        "    # pack output_format and class_names as dictionary\n",
        "    model_props = dict(\n",
        "        output_format=output_format,\n",
        "        class_names=class_names,\n",
        "    )\n",
        "\n",
        "    # finally apply transformation and save\n",
        "    f = g.EmbedModelProperty(model_props)\n",
        "    model = onnx.load(filename)\n",
        "    model = f(model)\n",
        "    onnx.save(model,filename)"
      ],
      "execution_count": 20,
      "outputs": []
    },
    {
      "cell_type": "code",
      "metadata": {
        "colab": {
          "base_uri": "https://localhost:8080/",
          "height": 290,
          "referenced_widgets": [
            "f6f3cfe6f93747f190e89d94c4bfee01",
            "7b23f60870d44dfbbefb231690780aa2",
            "003437c06da64682b2c92e8f762f428a",
            "adb2a443022c46f880f271629ff794e3",
            "1ac362149fbb42039e8c42b1fa953970",
            "4f6004355a1b4dbb8efb45ed8fbcd0eb",
            "88042667f3ba4d499ab8aeb8c41f00b5",
            "8e8d498daa554cda943ce68e0da07550"
          ]
        },
        "id": "a_VsPpAxJboW",
        "outputId": "b793b270-ebe4-4341-d87d-1cd5facc1bac"
      },
      "source": [
        "export(torch_path, onnx_path, \"/content/helmet_test_3.jpg\")"
      ],
      "execution_count": 21,
      "outputs": [
        {
          "output_type": "stream",
          "name": "stderr",
          "text": [
            "Downloading: \"https://download.pytorch.org/models/resnet50-19c8e357.pth\" to /root/.cache/torch/hub/checkpoints/resnet50-19c8e357.pth\n"
          ]
        },
        {
          "output_type": "display_data",
          "data": {
            "application/vnd.jupyter.widget-view+json": {
              "model_id": "f6f3cfe6f93747f190e89d94c4bfee01",
              "version_minor": 0,
              "version_major": 2
            },
            "text/plain": [
              "HBox(children=(FloatProgress(value=0.0, max=102502400.0), HTML(value='')))"
            ]
          },
          "metadata": {}
        },
        {
          "output_type": "stream",
          "name": "stdout",
          "text": [
            "\n"
          ]
        },
        {
          "output_type": "stream",
          "name": "stderr",
          "text": [
            "/usr/local/lib/python3.7/dist-packages/torch/tensor.py:455: RuntimeWarning:\n",
            "\n",
            "Iterating over a tensor might cause the trace to be incorrect. Passing a tensor of different shape won't change the number of iterations executed (and might lead to errors or silently give incorrect results).\n",
            "\n",
            "/usr/local/lib/python3.7/dist-packages/ipykernel_launcher.py:16: UserWarning:\n",
            "\n",
            "This overload of nonzero is deprecated:\n",
            "\tnonzero()\n",
            "Consider using one of the following signatures instead:\n",
            "\tnonzero(*, bool as_tuple) (Triggered internally at  /pytorch/torch/csrc/utils/python_arg_parser.cpp:766.)\n",
            "\n"
          ]
        }
      ]
    },
    {
      "cell_type": "markdown",
      "metadata": {
        "id": "lfI9L6YvxKuX"
      },
      "source": [
        "# Inference"
      ]
    },
    {
      "cell_type": "code",
      "metadata": {
        "id": "WiS2up1BNY6n"
      },
      "source": [
        "import matplotlib.pyplot as plt"
      ],
      "execution_count": 24,
      "outputs": []
    },
    {
      "cell_type": "code",
      "metadata": {
        "id": "XnNfJgcVJcz2"
      },
      "source": [
        "def inference(filename, input_path):\n",
        "    from vortex.runtime.helper import InferenceHelper\n",
        "    # import vortex.runtime as vrt\n",
        "    # from vortex.development.utils.runtime_wrapper import RuntimeWrapper\n",
        "    import cv2\n",
        "\n",
        "    # prepare test image, as NHWC with BGR channel order\n",
        "    img = test_image(input_path)\n",
        "    img = np.flip(img,-1)\n",
        "    img = cv2.resize(img[0],size[::-1])[None,...]\n",
        "\n",
        "    # construct runtime model with visualization\n",
        "    kwargs = dict(\n",
        "        model_path=filename,\n",
        "        runtime='cpu',\n",
        "    )\n",
        "    rt = InferenceHelper.create_runtime_model(**kwargs)\n",
        "\n",
        "    # prepare arguments for inference,\n",
        "    # note that the name 'score_threshold'\n",
        "    # will be forwarded to the actual runtime model\n",
        "    # hence the name should match the actual model itself.\n",
        "    kwargs = dict(\n",
        "        score_threshold=0.3,\n",
        "        visualize=True,\n",
        "    )\n",
        "    result = rt(img,**kwargs)\n",
        "    print(result['prediction'])\n",
        "\n",
        "    if 'visualization' in result:\n",
        "        # visualize first batch\n",
        "        visual = result['visualization'][0]\n",
        "        visual = np.flip(visual,2)\n",
        "        plt.imshow(visual)\n",
        "        plt.show()"
      ],
      "execution_count": 22,
      "outputs": []
    },
    {
      "cell_type": "code",
      "metadata": {
        "colab": {
          "base_uri": "https://localhost:8080/",
          "height": 643
        },
        "id": "EswmxfSBtLtf",
        "outputId": "4fdd43b5-faff-4019-cf29-b2b49b0eb2c1"
      },
      "source": [
        "inference(onnx_path, \"/content/helmet_test_3.jpg\")"
      ],
      "execution_count": 25,
      "outputs": [
        {
          "output_type": "stream",
          "name": "stdout",
          "text": [
            "[OrderedDict([('bounding_box', array([[326.9017  ,  12.7876  , 362.26233 ,  45.019684],\n",
            "       [237.04639 ,  46.684628, 308.69348 , 124.49129 ],\n",
            "       [ 73.462364,  54.07877 , 149.7162  , 138.38039 ],\n",
            "       [406.35605 ,  16.14898 , 446.54785 ,  55.730904],\n",
            "       [496.96805 ,  32.336456, 580.00507 , 120.78581 ],\n",
            "       [304.11646 ,  12.221274, 336.65482 ,  41.997627],\n",
            "       [370.39258 ,  44.229958, 427.4937  , 110.36224 ],\n",
            "       [395.00665 ,  15.550075, 428.17023 ,  53.184   ]], dtype=float32)), ('class_confidence', array([[0.98555565],\n",
            "       [0.92809737],\n",
            "       [0.98476344],\n",
            "       [0.9498722 ],\n",
            "       [0.98869705],\n",
            "       [0.8682155 ],\n",
            "       [0.9852223 ],\n",
            "       [0.7819229 ]], dtype=float32)), ('class_label', array([[1.],\n",
            "       [1.],\n",
            "       [1.],\n",
            "       [1.],\n",
            "       [1.],\n",
            "       [1.],\n",
            "       [1.],\n",
            "       [1.]], dtype=float32))])]\n"
          ]
        },
        {
          "output_type": "display_data",
          "data": {
            "image/png": "[encoded data removed]",
            "text/plain": [
              "<Figure size 432x288 with 1 Axes>"
            ]
          },
          "metadata": {
            "needs_background": "light"
          }
        }
      ]
    },
    {
      "cell_type": "code",
      "metadata": {
        "id": "Zhemfvu2tNxC"
      },
      "source": [
        ""
      ],
      "execution_count": null,
      "outputs": []
    }
  ]
}